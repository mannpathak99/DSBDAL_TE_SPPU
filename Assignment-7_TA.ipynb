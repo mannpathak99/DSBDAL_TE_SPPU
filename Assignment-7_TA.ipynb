{
 "cells": [
  {
   "cell_type": "code",
   "execution_count": 1,
   "id": "ac3b30ff-6544-46b4-b57b-88f6ba2ab458",
   "metadata": {},
   "outputs": [],
   "source": [
    "import pandas as pd\n",
    "import numpy as np\n",
    "import nltk\n",
    "from nltk.corpus import stopwords\n",
    "from nltk.stem import WordNetLemmatizer\n",
    "from nltk.stem import SnowballStemmer"
   ]
  },
  {
   "cell_type": "code",
   "execution_count": 2,
   "id": "6fcfc93b-3b58-4b13-b4ce-2b9b2cbed4eb",
   "metadata": {},
   "outputs": [
    {
     "data": {
      "text/html": [
       "<div>\n",
       "<style scoped>\n",
       "    .dataframe tbody tr th:only-of-type {\n",
       "        vertical-align: middle;\n",
       "    }\n",
       "\n",
       "    .dataframe tbody tr th {\n",
       "        vertical-align: top;\n",
       "    }\n",
       "\n",
       "    .dataframe thead th {\n",
       "        text-align: right;\n",
       "    }\n",
       "</style>\n",
       "<table border=\"1\" class=\"dataframe\">\n",
       "  <thead>\n",
       "    <tr style=\"text-align: right;\">\n",
       "      <th></th>\n",
       "      <th>id</th>\n",
       "      <th>title</th>\n",
       "      <th>author</th>\n",
       "      <th>text</th>\n",
       "      <th>label</th>\n",
       "    </tr>\n",
       "  </thead>\n",
       "  <tbody>\n",
       "    <tr>\n",
       "      <th>0</th>\n",
       "      <td>0</td>\n",
       "      <td>House Dem Aide: We Didn’t Even See Comey’s Let...</td>\n",
       "      <td>Darrell Lucus</td>\n",
       "      <td>House Dem Aide: We Didn’t Even See Comey’s Let...</td>\n",
       "      <td>1</td>\n",
       "    </tr>\n",
       "    <tr>\n",
       "      <th>1</th>\n",
       "      <td>1</td>\n",
       "      <td>FLYNN: Hillary Clinton, Big Woman on Campus - ...</td>\n",
       "      <td>Daniel J. Flynn</td>\n",
       "      <td>Ever get the feeling your life circles the rou...</td>\n",
       "      <td>0</td>\n",
       "    </tr>\n",
       "    <tr>\n",
       "      <th>2</th>\n",
       "      <td>2</td>\n",
       "      <td>Why the Truth Might Get You Fired</td>\n",
       "      <td>Consortiumnews.com</td>\n",
       "      <td>Why the Truth Might Get You Fired October 29, ...</td>\n",
       "      <td>1</td>\n",
       "    </tr>\n",
       "    <tr>\n",
       "      <th>3</th>\n",
       "      <td>3</td>\n",
       "      <td>15 Civilians Killed In Single US Airstrike Hav...</td>\n",
       "      <td>Jessica Purkiss</td>\n",
       "      <td>Videos 15 Civilians Killed In Single US Airstr...</td>\n",
       "      <td>1</td>\n",
       "    </tr>\n",
       "    <tr>\n",
       "      <th>4</th>\n",
       "      <td>4</td>\n",
       "      <td>Iranian woman jailed for fictional unpublished...</td>\n",
       "      <td>Howard Portnoy</td>\n",
       "      <td>Print \\nAn Iranian woman has been sentenced to...</td>\n",
       "      <td>1</td>\n",
       "    </tr>\n",
       "  </tbody>\n",
       "</table>\n",
       "</div>"
      ],
      "text/plain": [
       "   id                                              title              author  \\\n",
       "0   0  House Dem Aide: We Didn’t Even See Comey’s Let...       Darrell Lucus   \n",
       "1   1  FLYNN: Hillary Clinton, Big Woman on Campus - ...     Daniel J. Flynn   \n",
       "2   2                  Why the Truth Might Get You Fired  Consortiumnews.com   \n",
       "3   3  15 Civilians Killed In Single US Airstrike Hav...     Jessica Purkiss   \n",
       "4   4  Iranian woman jailed for fictional unpublished...      Howard Portnoy   \n",
       "\n",
       "                                                text  label  \n",
       "0  House Dem Aide: We Didn’t Even See Comey’s Let...      1  \n",
       "1  Ever get the feeling your life circles the rou...      0  \n",
       "2  Why the Truth Might Get You Fired October 29, ...      1  \n",
       "3  Videos 15 Civilians Killed In Single US Airstr...      1  \n",
       "4  Print \\nAn Iranian woman has been sentenced to...      1  "
      ]
     },
     "execution_count": 2,
     "metadata": {},
     "output_type": "execute_result"
    }
   ],
   "source": [
    "df = pd.read_csv('train.csv')\n",
    "df.head()"
   ]
  },
  {
   "cell_type": "code",
   "execution_count": 3,
   "id": "f22c809b-226d-4731-90db-e9b882727e3e",
   "metadata": {},
   "outputs": [
    {
     "name": "stdout",
     "output_type": "stream",
     "text": [
      "House Dem Aide: We Didn’t Even See Comey’s Letter Until Jason Chaffetz Tweeted It FLYNN: Hillary Clinton, Big Woman on Campus - Breitbart Why the Truth Might Get You Fired 15 Civilians Killed In Single US Airstrike Have Been Identified Iranian woman jailed for fictional unpublished story about woman stoned to death for adultery\n"
     ]
    }
   ],
   "source": [
    "Ex = \"\"\n",
    "Ex = \" \".join(df['title'].head())\n",
    "print(Ex)"
   ]
  },
  {
   "cell_type": "code",
   "execution_count": 4,
   "id": "fe0d5002-50a2-4c6e-8ba2-4e035de60022",
   "metadata": {},
   "outputs": [
    {
     "name": "stdout",
     "output_type": "stream",
     "text": [
      "['i', 'me', 'my', 'myself', 'we', 'our', 'ours', 'ourselves', 'you', \"you're\", \"you've\", \"you'll\", \"you'd\", 'your', 'yours', 'yourself', 'yourselves', 'he', 'him', 'his', 'himself', 'she', \"she's\", 'her', 'hers', 'herself', 'it', \"it's\", 'its', 'itself', 'they', 'them', 'their', 'theirs', 'themselves', 'what', 'which', 'who', 'whom', 'this', 'that', \"that'll\", 'these', 'those', 'am', 'is', 'are', 'was', 'were', 'be', 'been', 'being', 'have', 'has', 'had', 'having', 'do', 'does', 'did', 'doing', 'a', 'an', 'the', 'and', 'but', 'if', 'or', 'because', 'as', 'until', 'while', 'of', 'at', 'by', 'for', 'with', 'about', 'against', 'between', 'into', 'through', 'during', 'before', 'after', 'above', 'below', 'to', 'from', 'up', 'down', 'in', 'out', 'on', 'off', 'over', 'under', 'again', 'further', 'then', 'once', 'here', 'there', 'when', 'where', 'why', 'how', 'all', 'any', 'both', 'each', 'few', 'more', 'most', 'other', 'some', 'such', 'no', 'nor', 'not', 'only', 'own', 'same', 'so', 'than', 'too', 'very', 's', 't', 'can', 'will', 'just', 'don', \"don't\", 'should', \"should've\", 'now', 'd', 'll', 'm', 'o', 're', 've', 'y', 'ain', 'aren', \"aren't\", 'couldn', \"couldn't\", 'didn', \"didn't\", 'doesn', \"doesn't\", 'hadn', \"hadn't\", 'hasn', \"hasn't\", 'haven', \"haven't\", 'isn', \"isn't\", 'ma', 'mightn', \"mightn't\", 'mustn', \"mustn't\", 'needn', \"needn't\", 'shan', \"shan't\", 'shouldn', \"shouldn't\", 'wasn', \"wasn't\", 'weren', \"weren't\", 'won', \"won't\", 'wouldn', \"wouldn't\"]\n"
     ]
    }
   ],
   "source": [
    "stopword = stopwords.words('english')\n",
    "print(stopword)"
   ]
  },
  {
   "cell_type": "code",
   "execution_count": 5,
   "id": "a3951965-2da8-457a-8d60-eaab08b5673d",
   "metadata": {},
   "outputs": [
    {
     "data": {
      "text/plain": [
       "'house dem aide: we didn’t even see comey’s letter until jason chaffetz tweeted it flynn: hillary clinton, big woman on campus - breitbart why the truth might get you fired 15 civilians killed in single us airstrike have been identified iranian woman jailed for fictional unpublished story about woman stoned to death for adultery'"
      ]
     },
     "execution_count": 5,
     "metadata": {},
     "output_type": "execute_result"
    }
   ],
   "source": [
    "Ex = Ex.lower()\n",
    "Ex"
   ]
  },
  {
   "cell_type": "code",
   "execution_count": 6,
   "id": "7778d5a4-3e4a-471d-a177-4c6e8b859513",
   "metadata": {},
   "outputs": [
    {
     "name": "stdout",
     "output_type": "stream",
     "text": [
      "['house', 'dem', 'aide', ':', 'we', 'didn', '’', 't', 'even', 'see', 'comey', '’', 's', 'letter', 'until', 'jason', 'chaffetz', 'tweeted', 'it', 'flynn', ':', 'hillary', 'clinton', ',', 'big', 'woman', 'on', 'campus', '-', 'breitbart', 'why', 'the', 'truth', 'might', 'get', 'you', 'fired', '15', 'civilians', 'killed', 'in', 'single', 'us', 'airstrike', 'have', 'been', 'identified', 'iranian', 'woman', 'jailed', 'for', 'fictional', 'unpublished', 'story', 'about', 'woman', 'stoned', 'to', 'death', 'for', 'adultery']\n"
     ]
    }
   ],
   "source": [
    "words = nltk.word_tokenize(Ex)\n",
    "print(words)"
   ]
  },
  {
   "cell_type": "code",
   "execution_count": 7,
   "id": "f95a48d0-c4f3-4dac-82aa-d75479bf2dbc",
   "metadata": {},
   "outputs": [
    {
     "name": "stdout",
     "output_type": "stream",
     "text": [
      "['house', 'dem', 'aide', ':', '’', 'even', 'see', 'comey', '’', 'letter', 'jason', 'chaffetz', 'tweeted', 'flynn', ':', 'hillary', 'clinton', ',', 'big', 'woman', 'campus', '-', 'breitbart', 'truth', 'might', 'get', 'fired', '15', 'civilians', 'killed', 'single', 'us', 'airstrike', 'identified', 'iranian', 'woman', 'jailed', 'fictional', 'unpublished', 'story', 'woman', 'stoned', 'death', 'adultery']\n"
     ]
    }
   ],
   "source": [
    "without_stopword = [i for i in words if i not in stopword]\n",
    "print(without_stopword)"
   ]
  },
  {
   "cell_type": "code",
   "execution_count": 11,
   "id": "7c28cf07-00a0-4087-a75f-d4ff9cb3dbdb",
   "metadata": {},
   "outputs": [
    {
     "name": "stdout",
     "output_type": "stream",
     "text": [
      "['house', 'dem', 'aide', ':', '’', 'even', 'see', 'comey', '’', 'letter', 'jason', 'chaffetz', 'tweeted', 'flynn', ':', 'hillary', 'clinton', ',', 'big', 'woman', 'campus', '-', 'breitbart', 'truth', 'might', 'get', 'fired', '15', 'civilian', 'killed', 'single', 'u', 'airstrike', 'identified', 'iranian', 'woman', 'jailed', 'fictional', 'unpublished', 'story', 'woman', 'stoned', 'death', 'adultery']\n"
     ]
    }
   ],
   "source": [
    "lemmatizer = WordNetLemmatizer()\n",
    "lemmatized_output = ([lemmatizer.lemmatize(w) for w in without_stopword])\n",
    "print(lemmatized_output)"
   ]
  },
  {
   "cell_type": "code",
   "execution_count": 12,
   "id": "c8f91ea6-6170-4575-93a3-efd66146aa87",
   "metadata": {},
   "outputs": [
    {
     "name": "stdout",
     "output_type": "stream",
     "text": [
      "['house', 'dem', 'aide', 'even', 'see', 'comey', 'letter', 'jason', 'chaffetz', 'tweeted', 'flynn', 'hillary', 'clinton', 'big', 'woman', 'campus', 'breitbart', 'truth', 'might', 'get', 'fired', 'civilians', 'killed', 'single', 'us', 'airstrike', 'identified', 'iranian', 'woman', 'jailed', 'fictional', 'unpublished', 'story', 'woman', 'stoned', 'death', 'adultery']\n"
     ]
    }
   ],
   "source": [
    "without_punctuation = []\n",
    "for q in without_stopword:\n",
    "    if(q.isalpha()):\n",
    "        without_punctuation.append(q)\n",
    "\n",
    "print(without_punctuation)"
   ]
  },
  {
   "cell_type": "code",
   "execution_count": 14,
   "id": "66ef8b79-f7a9-4053-a0e1-78272f825a3f",
   "metadata": {},
   "outputs": [
    {
     "name": "stdout",
     "output_type": "stream",
     "text": [
      "['hous', 'dem', 'aid', 'even', 'see', 'comey', 'letter', 'jason', 'chaffetz', 'tweet', 'flynn', 'hillari', 'clinton', 'big', 'woman', 'campus', 'breitbart', 'truth', 'might', 'get', 'fire', 'civilian', 'kill', 'singl', 'us', 'airstrik', 'identifi', 'iranian', 'woman', 'jail', 'fiction', 'unpublish', 'stori', 'woman', 'stone', 'death', 'adulteri']\n"
     ]
    }
   ],
   "source": [
    "stemmed_words = []\n",
    "stemmer = SnowballStemmer(\"english\")\n",
    "for word in without_punctuation:\n",
    "    stemmed_words.append(stemmer.stem(word))\n",
    "\n",
    "print(stemmed_words)"
   ]
  },
  {
   "cell_type": "code",
   "execution_count": 15,
   "id": "b00d6e32-6579-46d7-bc4b-b498e2c6ce2d",
   "metadata": {},
   "outputs": [
    {
     "data": {
      "text/plain": [
       "[('hous', 'JJ'),\n",
       " ('dem', 'NN'),\n",
       " ('aid', 'NN'),\n",
       " ('even', 'RB'),\n",
       " ('see', 'VB'),\n",
       " ('comey', 'JJ'),\n",
       " ('letter', 'NN'),\n",
       " ('jason', 'NN'),\n",
       " ('chaffetz', 'NN'),\n",
       " ('tweet', 'NN'),\n",
       " ('flynn', 'NN'),\n",
       " ('hillari', 'VBP'),\n",
       " ('clinton', 'NN'),\n",
       " ('big', 'JJ'),\n",
       " ('woman', 'NN'),\n",
       " ('campus', 'NN'),\n",
       " ('breitbart', 'NN'),\n",
       " ('truth', 'NN'),\n",
       " ('might', 'MD'),\n",
       " ('get', 'VB'),\n",
       " ('fire', 'JJ'),\n",
       " ('civilian', 'JJ'),\n",
       " ('kill', 'NN'),\n",
       " ('singl', 'VBD'),\n",
       " ('us', 'PRP'),\n",
       " ('airstrik', 'RP'),\n",
       " ('identifi', 'JJ'),\n",
       " ('iranian', 'JJ'),\n",
       " ('woman', 'NN'),\n",
       " ('jail', 'NN'),\n",
       " ('fiction', 'NN'),\n",
       " ('unpublish', 'JJ'),\n",
       " ('stori', 'NN'),\n",
       " ('woman', 'NN'),\n",
       " ('stone', 'VBD'),\n",
       " ('death', 'NN'),\n",
       " ('adulteri', 'NN')]"
      ]
     },
     "execution_count": 15,
     "metadata": {},
     "output_type": "execute_result"
    }
   ],
   "source": [
    "pos_tagged = nltk.pos_tag(stemmed_words)\n",
    "pos_tagged"
   ]
  },
  {
   "cell_type": "code",
   "execution_count": 16,
   "id": "2d5193bd-9db0-4dfd-b13e-71b8d8fa917f",
   "metadata": {},
   "outputs": [
    {
     "data": {
      "text/plain": [
       "['house dem aide: we didn’t even see comey’s letter until jason chaffetz tweeted it flynn: hillary clinton, big woman on campus - breitbart why the truth might get you fired 15 civilians killed in single us airstrike have been identified iranian woman jailed for fictional unpublished story about woman stoned to death for adultery']"
      ]
     },
     "execution_count": 16,
     "metadata": {},
     "output_type": "execute_result"
    }
   ],
   "source": [
    "sen = nltk.sent_tokenize(Ex)\n",
    "sen"
   ]
  },
  {
   "cell_type": "code",
   "execution_count": 17,
   "id": "b97e2a6a-d5b1-4b67-9dfe-75cb04922cb8",
   "metadata": {},
   "outputs": [],
   "source": [
    "from sklearn.feature_extraction.text import TfidfVectorizer"
   ]
  },
  {
   "cell_type": "code",
   "execution_count": 18,
   "id": "f806ed3d-3414-41b6-8f40-4ff7f21717c4",
   "metadata": {},
   "outputs": [
    {
     "data": {
      "text/plain": [
       "<1x50 sparse matrix of type '<class 'numpy.float64'>'\n",
       "\twith 50 stored elements in Compressed Sparse Row format>"
      ]
     },
     "execution_count": 18,
     "metadata": {},
     "output_type": "execute_result"
    }
   ],
   "source": [
    "tfidf = TfidfVectorizer()\n",
    "result = tfidf.fit_transform(sen)\n",
    "result"
   ]
  },
  {
   "cell_type": "code",
   "execution_count": 19,
   "id": "0d491aa8-4c34-44c8-a5d8-313e6b173d85",
   "metadata": {},
   "outputs": [
    {
     "name": "stdout",
     "output_type": "stream",
     "text": [
      "15  :  1.0\n",
      "about  :  1.0\n",
      "adultery  :  1.0\n",
      "aide  :  1.0\n",
      "airstrike  :  1.0\n",
      "been  :  1.0\n",
      "big  :  1.0\n",
      "breitbart  :  1.0\n",
      "campus  :  1.0\n",
      "chaffetz  :  1.0\n",
      "civilians  :  1.0\n",
      "clinton  :  1.0\n",
      "comey  :  1.0\n",
      "death  :  1.0\n",
      "dem  :  1.0\n",
      "didn  :  1.0\n",
      "even  :  1.0\n",
      "fictional  :  1.0\n",
      "fired  :  1.0\n",
      "flynn  :  1.0\n",
      "for  :  1.0\n",
      "get  :  1.0\n",
      "have  :  1.0\n",
      "hillary  :  1.0\n",
      "house  :  1.0\n",
      "identified  :  1.0\n",
      "in  :  1.0\n",
      "iranian  :  1.0\n",
      "it  :  1.0\n",
      "jailed  :  1.0\n",
      "jason  :  1.0\n",
      "killed  :  1.0\n",
      "letter  :  1.0\n",
      "might  :  1.0\n",
      "on  :  1.0\n",
      "see  :  1.0\n",
      "single  :  1.0\n",
      "stoned  :  1.0\n",
      "story  :  1.0\n",
      "the  :  1.0\n",
      "to  :  1.0\n",
      "truth  :  1.0\n",
      "tweeted  :  1.0\n",
      "unpublished  :  1.0\n",
      "until  :  1.0\n",
      "us  :  1.0\n",
      "we  :  1.0\n",
      "why  :  1.0\n",
      "woman  :  1.0\n",
      "you  :  1.0\n"
     ]
    }
   ],
   "source": [
    "for ele1,ele2 in zip(tfidf.get_feature_names_out(),tfidf.idf_):\n",
    "    print(ele1,\" : \",ele2)"
   ]
  },
  {
   "cell_type": "code",
   "execution_count": 20,
   "id": "6d7b5747-7037-475a-b9ba-425fbed340d4",
   "metadata": {},
   "outputs": [
    {
     "name": "stdout",
     "output_type": "stream",
     "text": [
      "\n",
      "Word Indexes: \n",
      "{'house': 24, 'dem': 14, 'aide': 3, 'we': 46, 'didn': 15, 'even': 16, 'see': 35, 'comey': 12, 'letter': 32, 'until': 44, 'jason': 30, 'chaffetz': 9, 'tweeted': 42, 'it': 28, 'flynn': 19, 'hillary': 23, 'clinton': 11, 'big': 6, 'woman': 48, 'on': 34, 'campus': 8, 'breitbart': 7, 'why': 47, 'the': 39, 'truth': 41, 'might': 33, 'get': 21, 'you': 49, 'fired': 18, '15': 0, 'civilians': 10, 'killed': 31, 'in': 26, 'single': 36, 'us': 45, 'airstrike': 4, 'have': 22, 'been': 5, 'identified': 25, 'iranian': 27, 'jailed': 29, 'for': 20, 'fictional': 17, 'unpublished': 43, 'story': 38, 'about': 1, 'stoned': 37, 'to': 40, 'death': 13, 'adultery': 2}\n"
     ]
    }
   ],
   "source": [
    "print('\\nWord Indexes: ')\n",
    "print(tfidf.vocabulary_)"
   ]
  },
  {
   "cell_type": "code",
   "execution_count": 21,
   "id": "ac134d09-93d8-49a5-afd8-dda183c6e825",
   "metadata": {},
   "outputs": [
    {
     "name": "stdout",
     "output_type": "stream",
     "text": [
      "\n",
      "tf-idf values: \n",
      "  (0, 2)\t0.12803687993289598\n",
      "  (0, 13)\t0.12803687993289598\n",
      "  (0, 40)\t0.12803687993289598\n",
      "  (0, 37)\t0.12803687993289598\n",
      "  (0, 1)\t0.12803687993289598\n",
      "  (0, 38)\t0.12803687993289598\n",
      "  (0, 43)\t0.12803687993289598\n",
      "  (0, 17)\t0.12803687993289598\n",
      "  (0, 20)\t0.25607375986579195\n",
      "  (0, 29)\t0.12803687993289598\n",
      "  (0, 27)\t0.12803687993289598\n",
      "  (0, 25)\t0.12803687993289598\n",
      "  (0, 5)\t0.12803687993289598\n",
      "  (0, 22)\t0.12803687993289598\n",
      "  (0, 4)\t0.12803687993289598\n",
      "  (0, 45)\t0.12803687993289598\n",
      "  (0, 36)\t0.12803687993289598\n",
      "  (0, 26)\t0.12803687993289598\n",
      "  (0, 31)\t0.12803687993289598\n",
      "  (0, 10)\t0.12803687993289598\n",
      "  (0, 0)\t0.12803687993289598\n",
      "  (0, 18)\t0.12803687993289598\n",
      "  (0, 49)\t0.12803687993289598\n",
      "  (0, 21)\t0.12803687993289598\n",
      "  (0, 33)\t0.12803687993289598\n",
      "  (0, 41)\t0.12803687993289598\n",
      "  (0, 39)\t0.12803687993289598\n",
      "  (0, 47)\t0.12803687993289598\n",
      "  (0, 7)\t0.12803687993289598\n",
      "  (0, 8)\t0.12803687993289598\n",
      "  (0, 34)\t0.12803687993289598\n",
      "  (0, 48)\t0.3841106397986879\n",
      "  (0, 6)\t0.12803687993289598\n",
      "  (0, 11)\t0.12803687993289598\n",
      "  (0, 23)\t0.12803687993289598\n",
      "  (0, 19)\t0.12803687993289598\n",
      "  (0, 28)\t0.12803687993289598\n",
      "  (0, 42)\t0.12803687993289598\n",
      "  (0, 9)\t0.12803687993289598\n",
      "  (0, 30)\t0.12803687993289598\n",
      "  (0, 44)\t0.12803687993289598\n",
      "  (0, 32)\t0.12803687993289598\n",
      "  (0, 12)\t0.12803687993289598\n",
      "  (0, 35)\t0.12803687993289598\n",
      "  (0, 16)\t0.12803687993289598\n",
      "  (0, 15)\t0.12803687993289598\n",
      "  (0, 46)\t0.12803687993289598\n",
      "  (0, 3)\t0.12803687993289598\n",
      "  (0, 14)\t0.12803687993289598\n",
      "  (0, 24)\t0.12803687993289598\n"
     ]
    }
   ],
   "source": [
    "print('\\ntf-idf values: ')\n",
    "print(result)"
   ]
  },
  {
   "cell_type": "code",
   "execution_count": 23,
   "id": "e3d9b38b-a738-4d0e-9933-cc10120bca7e",
   "metadata": {},
   "outputs": [
    {
     "name": "stdout",
     "output_type": "stream",
     "text": [
      "\n",
      "tf-idf values in matrix form: \n",
      "[[0.12803688 0.12803688 0.12803688 0.12803688 0.12803688 0.12803688\n",
      "  0.12803688 0.12803688 0.12803688 0.12803688 0.12803688 0.12803688\n",
      "  0.12803688 0.12803688 0.12803688 0.12803688 0.12803688 0.12803688\n",
      "  0.12803688 0.12803688 0.25607376 0.12803688 0.12803688 0.12803688\n",
      "  0.12803688 0.12803688 0.12803688 0.12803688 0.12803688 0.12803688\n",
      "  0.12803688 0.12803688 0.12803688 0.12803688 0.12803688 0.12803688\n",
      "  0.12803688 0.12803688 0.12803688 0.12803688 0.12803688 0.12803688\n",
      "  0.12803688 0.12803688 0.12803688 0.12803688 0.12803688 0.12803688\n",
      "  0.38411064 0.12803688]]\n"
     ]
    }
   ],
   "source": [
    "print('\\ntf-idf values in matrix form: ')\n",
    "print(result.toarray())"
   ]
  },
  {
   "cell_type": "code",
   "execution_count": null,
   "id": "cd57abbb-13e8-459a-8d83-c41b2e2ff14a",
   "metadata": {},
   "outputs": [],
   "source": []
  }
 ],
 "metadata": {
  "kernelspec": {
   "display_name": "Python 3 (ipykernel)",
   "language": "python",
   "name": "python3"
  },
  "language_info": {
   "codemirror_mode": {
    "name": "ipython",
    "version": 3
   },
   "file_extension": ".py",
   "mimetype": "text/x-python",
   "name": "python",
   "nbconvert_exporter": "python",
   "pygments_lexer": "ipython3",
   "version": "3.11.5"
  }
 },
 "nbformat": 4,
 "nbformat_minor": 5
}
